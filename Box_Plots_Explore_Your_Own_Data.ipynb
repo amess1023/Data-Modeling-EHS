{
  "nbformat": 4,
  "nbformat_minor": 0,
  "metadata": {
    "colab": {
      "name": "Box Plots - Explore Your Own Data",
      "provenance": [],
      "collapsed_sections": []
    },
    "kernelspec": {
      "name": "python3",
      "display_name": "Python 3"
    }
  },
  "cells": [
    {
      "cell_type": "markdown",
      "metadata": {
        "id": "dxVuKhTggdJ0"
      },
      "source": [
        "# Data Analysis With Python\n",
        "Sometimes we need more powerful tools to analyze our data. We will be using the Python programming language and two amazingly powerful Python libraries called pandas and Matplotlib. \n",
        "\n",
        "Next to each cell you should see \\[ \\]. Click on this tab to run the cell and import these two packages. "
      ]
    },
    {
      "cell_type": "code",
      "metadata": {
        "id": "F9MVm0U6gWz2"
      },
      "source": [
        "# Import the package pandas and rename it in our code as pd\n",
        "import pandas as pd\n",
        "# Import the package matplotlib and rename it to plt\n",
        "import matplotlib.pyplot as plt\n",
        "# Other IO\n",
        "from google.colab import files\n",
        "import io"
      ],
      "execution_count": 1,
      "outputs": []
    },
    {
      "cell_type": "markdown",
      "metadata": {
        "id": "TgRB34wLwjmP"
      },
      "source": [
        "We will be using the U.S. Census American Community Survey which consists of anonymized information about the lives of real Americans. \n",
        "\n",
        "Choose a state that you would like to explore! \n",
        "[Make sure to click the \\[\\] button next to the cell after making or changing your selection!"
      ]
    },
    {
      "cell_type": "code",
      "metadata": {
        "id": "Y3_LWBgJwbI6",
        "cellView": "form"
      },
      "source": [
        "state_of_interest = \"Oregon\" #@param [\"Alabama\", \"Alaska\", \"Hawaii\", \"Iowa\", \"Massachusetts\", \"New Mexico\", \"Oregon\"]\n",
        "\n",
        "# This is a dictionary that stores a mapping from our state names to the csv\n",
        "# files that hold the data for each state. The first link corresponds to the\n",
        "# people data and the second for the household data.\n",
        "data_links = {\n",
        "    \"Alabama\":(\n",
        "        \"https://drive.google.com/file/d/1a4_0Ac9HYz73jJ2vEDzpJXZSREiK0EnX/view?usp=sharing\",\n",
        "        \"https://drive.google.com/file/d/1EIVlMZIbl0UgldqD8pIHBVc6rG77yAZ-/view?usp=sharing\"\n",
        "    ),\n",
        "    \"Massachusetts\": ( \n",
        "        \"https://drive.google.com/file/d/1lCgNZlUkiIogKbxhe3lbEBDeqphtLFZ8/view?usp=sharing\",\n",
        "        \"https://drive.google.com/file/d/1q_Zb2FWPN_B1EQNCNhUuzuZA4PDF3oaY/view?usp=sharing\"\n",
        "    ),\n",
        "    \"New Mexico\": (\n",
        "        \"https://drive.google.com/file/d/1ZfowpPwSZf7q2X15VEixJEstSZiWbz5t/view?usp=sharing\",\n",
        "        \"https://drive.google.com/file/d/1Ojws6ux7DnzJ6qM0AYYYMG2S7ZxsbyF1/view?usp=sharing\"\n",
        "    ),\n",
        "    \"Oregon\": (\n",
        "        \"https://drive.google.com/file/d/1Cg6EBRSttWuQMg8l7thF8GngPMEinPtk/view?usp=sharing\",\n",
        "        \"https://drive.google.com/file/d/1cA9QSXkKz09TL5yIQ6wYc722NvhTLgwS/view?usp=sharing\"\n",
        "    ),\n",
        "    \"Iowa\": (\n",
        "        \"https://drive.google.com/file/d/1EN1JPHz4JbL-oAAehSyY7Dmrq_BBI6Km/view?usp=sharing\",\n",
        "        \"https://drive.google.com/file/d/1Xn9dw9BzuwqppB217BxPMDLG8uPuQDMS/view?usp=sharing\"\n",
        "    ),\n",
        "    \"Hawaii\": (\n",
        "        \"https://drive.google.com/file/d/1ByzvSSY83JssZUimi4CI5cwVVzBI44mn/view?usp=sharing\",\n",
        "        \"https://drive.google.com/file/d/1jnQvhCJW1LwwN-mnrCvcwu0Dav5jBQje/view?usp=sharing\"\n",
        "    ),\n",
        "    \"Alaska\": (\n",
        "        \"https://drive.google.com/file/d/1SWZpexRTL8pqKa3NIW4wLDQwWewOclw6/view?usp=sharing\",\n",
        "        \"https://drive.google.com/file/d/1we_AvX5nBqv6Qr8w2tR2Pk6qQufneBod/view?usp=sharing\"\n",
        "    )\n",
        "}\n",
        "\n",
        "# Here we are turning the shareable google drive link into a downloadable csv.\n",
        "def drive_to_pandas(share_link):\n",
        "  \"\"\" Downloads a CSV in Google drive to a pandas dataframe. \"\"\"\n",
        "  download_link = 'https://drive.google.com/uc?export=download&id=' + share_link.split('/')[-2]\n",
        "  # Finally we use the download link to download our data from the web\n",
        "  return pd.read_csv(download_link)\n",
        "\n",
        "person_url, household_url = data_links[state_of_interest]\n",
        "person_data = drive_to_pandas(person_url)\n",
        "household_data = drive_to_pandas(household_url)"
      ],
      "execution_count": null,
      "outputs": []
    },
    {
      "cell_type": "markdown",
      "metadata": {
        "id": "iSl-3jERxwCH"
      },
      "source": [
        "The first step whenever you have a new dataset is to get a sense of which features (the columns like Age, Wages, etc) you have access to."
      ]
    },
    {
      "cell_type": "code",
      "metadata": {
        "colab": {
          "base_uri": "https://localhost:8080/",
          "height": 204
        },
        "id": "KyDvvs3eg2aH",
        "outputId": "9902a9e8-9447-4014-8e86-2309912605ea"
      },
      "source": [
        "# Our microdata csv is now in the dataframe variable.\n",
        "# We can call the method \"head()\" on df to print out the first 5 rows.\n",
        "person_data.head()"
      ],
      "execution_count": null,
      "outputs": [
        {
          "output_type": "execute_result",
          "data": {
            "text/html": [
              "<div>\n",
              "<style scoped>\n",
              "    .dataframe tbody tr th:only-of-type {\n",
              "        vertical-align: middle;\n",
              "    }\n",
              "\n",
              "    .dataframe tbody tr th {\n",
              "        vertical-align: top;\n",
              "    }\n",
              "\n",
              "    .dataframe thead th {\n",
              "        text-align: right;\n",
              "    }\n",
              "</style>\n",
              "<table border=\"1\" class=\"dataframe\">\n",
              "  <thead>\n",
              "    <tr style=\"text-align: right;\">\n",
              "      <th></th>\n",
              "      <th>AgeInYears</th>\n",
              "      <th>TravelTimeToWorkInMinutes</th>\n",
              "      <th>NumberOfPeopleInCarpool</th>\n",
              "      <th>HoursWorkedWeeklyInPastYear</th>\n",
              "      <th>TotalIncomeInDollars</th>\n",
              "    </tr>\n",
              "  </thead>\n",
              "  <tbody>\n",
              "    <tr>\n",
              "      <th>0</th>\n",
              "      <td>51</td>\n",
              "      <td>NaN</td>\n",
              "      <td>NaN</td>\n",
              "      <td>NaN</td>\n",
              "      <td>40000.0</td>\n",
              "    </tr>\n",
              "    <tr>\n",
              "      <th>1</th>\n",
              "      <td>17</td>\n",
              "      <td>NaN</td>\n",
              "      <td>NaN</td>\n",
              "      <td>NaN</td>\n",
              "      <td>3000.0</td>\n",
              "    </tr>\n",
              "    <tr>\n",
              "      <th>2</th>\n",
              "      <td>13</td>\n",
              "      <td>NaN</td>\n",
              "      <td>NaN</td>\n",
              "      <td>NaN</td>\n",
              "      <td>NaN</td>\n",
              "    </tr>\n",
              "    <tr>\n",
              "      <th>3</th>\n",
              "      <td>48</td>\n",
              "      <td>25.0</td>\n",
              "      <td>1.0</td>\n",
              "      <td>40.0</td>\n",
              "      <td>15000.0</td>\n",
              "    </tr>\n",
              "    <tr>\n",
              "      <th>4</th>\n",
              "      <td>63</td>\n",
              "      <td>NaN</td>\n",
              "      <td>NaN</td>\n",
              "      <td>NaN</td>\n",
              "      <td>31400.0</td>\n",
              "    </tr>\n",
              "  </tbody>\n",
              "</table>\n",
              "</div>"
            ],
            "text/plain": [
              "   AgeInYears  ...  TotalIncomeInDollars\n",
              "0          51  ...               40000.0\n",
              "1          17  ...                3000.0\n",
              "2          13  ...                   NaN\n",
              "3          48  ...               15000.0\n",
              "4          63  ...               31400.0\n",
              "\n",
              "[5 rows x 5 columns]"
            ]
          },
          "metadata": {},
          "execution_count": 3
        }
      ]
    },
    {
      "cell_type": "code",
      "metadata": {
        "colab": {
          "base_uri": "https://localhost:8080/",
          "height": 224
        },
        "id": "ZGfAw4llXYtB",
        "outputId": "17cc671a-d9f6-4b18-d0f4-597e44624235"
      },
      "source": [
        "household_data.head()"
      ],
      "execution_count": null,
      "outputs": [
        {
          "output_type": "execute_result",
          "data": {
            "text/html": [
              "<div>\n",
              "<style scoped>\n",
              "    .dataframe tbody tr th:only-of-type {\n",
              "        vertical-align: middle;\n",
              "    }\n",
              "\n",
              "    .dataframe tbody tr th {\n",
              "        vertical-align: top;\n",
              "    }\n",
              "\n",
              "    .dataframe thead th {\n",
              "        text-align: right;\n",
              "    }\n",
              "</style>\n",
              "<table border=\"1\" class=\"dataframe\">\n",
              "  <thead>\n",
              "    <tr style=\"text-align: right;\">\n",
              "      <th></th>\n",
              "      <th>WaterCostInDollars</th>\n",
              "      <th>FireHazardFloodInsuranceYearlyCostInDollars</th>\n",
              "      <th>GrossRentAsPercentOfIncome</th>\n",
              "      <th>NumberOfChildrenInHousehold</th>\n",
              "      <th>NumberOfPeopleInHousehold</th>\n",
              "    </tr>\n",
              "  </thead>\n",
              "  <tbody>\n",
              "    <tr>\n",
              "      <th>0</th>\n",
              "      <td>NaN</td>\n",
              "      <td>900.0</td>\n",
              "      <td>NaN</td>\n",
              "      <td>0.0</td>\n",
              "      <td>2</td>\n",
              "    </tr>\n",
              "    <tr>\n",
              "      <th>1</th>\n",
              "      <td>NaN</td>\n",
              "      <td>NaN</td>\n",
              "      <td>NaN</td>\n",
              "      <td>NaN</td>\n",
              "      <td>0</td>\n",
              "    </tr>\n",
              "    <tr>\n",
              "      <th>2</th>\n",
              "      <td>NaN</td>\n",
              "      <td>NaN</td>\n",
              "      <td>NaN</td>\n",
              "      <td>NaN</td>\n",
              "      <td>1</td>\n",
              "    </tr>\n",
              "    <tr>\n",
              "      <th>3</th>\n",
              "      <td>NaN</td>\n",
              "      <td>NaN</td>\n",
              "      <td>29.0</td>\n",
              "      <td>0.0</td>\n",
              "      <td>1</td>\n",
              "    </tr>\n",
              "    <tr>\n",
              "      <th>4</th>\n",
              "      <td>NaN</td>\n",
              "      <td>NaN</td>\n",
              "      <td>101.0</td>\n",
              "      <td>2.0</td>\n",
              "      <td>3</td>\n",
              "    </tr>\n",
              "  </tbody>\n",
              "</table>\n",
              "</div>"
            ],
            "text/plain": [
              "   WaterCostInDollars  ...  NumberOfPeopleInHousehold\n",
              "0                 NaN  ...                          2\n",
              "1                 NaN  ...                          0\n",
              "2                 NaN  ...                          1\n",
              "3                 NaN  ...                          1\n",
              "4                 NaN  ...                          3\n",
              "\n",
              "[5 rows x 5 columns]"
            ]
          },
          "metadata": {},
          "execution_count": 4
        }
      ]
    },
    {
      "cell_type": "markdown",
      "metadata": {
        "id": "DTGiurEWyQgl"
      },
      "source": [
        "Let's explore the distribution of one of the variables of our data. Choose one of the variables from the dropdown and then run the rest of the code!\n",
        "\n",
        "Make sure to remember to run the \\[ \\] next to the dropdown and all code if you want to update it."
      ]
    },
    {
      "cell_type": "code",
      "metadata": {
        "id": "cfgOTredhmKj"
      },
      "source": [
        "variable_to_explore = \"TotalIncomeInDollars\"\n",
        "\n",
        "df = household_data if variable_to_explore in household_data.columns else person_data"
      ],
      "execution_count": null,
      "outputs": []
    },
    {
      "cell_type": "markdown",
      "metadata": {
        "id": "mjRAX6NozHWz"
      },
      "source": [
        "# Old Tools\n",
        "We still have access to all the same statistical tools and tests that we have been used to! Let's explore those.\n"
      ]
    },
    {
      "cell_type": "code",
      "metadata": {
        "colab": {
          "base_uri": "https://localhost:8080/"
        },
        "id": "a_dOwSdMzF5J",
        "outputId": "268330e1-7fd6-4672-e054-b592ccf0e7e2"
      },
      "source": [
        "# Calculate and print the mean.\n",
        "mean = df[variable_to_explore].mean()\n",
        "print(f\"Mean of {variable_to_explore} is {round(mean,3)}\\n\")\n",
        "\n",
        "# Calculate and print the median.\n",
        "median = df[variable_to_explore].median()\n",
        "print(f\"Median of {variable_to_explore} is {round(median,3)}\\n\")\n",
        "\n",
        "# Calculate and print the mode.\n",
        "mode = float(df[variable_to_explore].mode())\n",
        "print(f\"Mode of {variable_to_explore} is {round(mode,3)}\\n\")\n",
        "\n",
        "# Calculate the quartiles\n",
        "minv = float(df[variable_to_explore].min())\n",
        "q2 = float(df[variable_to_explore].quantile(q=0.25))\n",
        "q3 = float(df[variable_to_explore].quantile(q=0.75))\n",
        "maxv = float(df[variable_to_explore].max())\n",
        "print(f\"Quartiles of {variable_to_explore} are {round(minv, 3)}, {round(q2, 3)}, {round(q3, 3)}, {round(maxv, 3)}\\n\")"
      ],
      "execution_count": null,
      "outputs": [
        {
          "output_type": "stream",
          "name": "stdout",
          "text": [
            "Mean of TotalIncomeInDollars is 43396.682\n",
            "\n",
            "Median of TotalIncomeInDollars is 28000.0\n",
            "\n",
            "Mode of TotalIncomeInDollars is 0.0\n",
            "\n",
            "Quartiles of TotalIncomeInDollars are -7000.0, 9800.0, 57000.0, 944000.0\n",
            "\n"
          ]
        }
      ]
    },
    {
      "cell_type": "markdown",
      "metadata": {
        "id": "ExpX08OtzJvL"
      },
      "source": [
        "# When excel won't cut it.\n",
        "Sometimes we need even more powerful graphical or statistical tools. Let's see what we can do in python! "
      ]
    },
    {
      "cell_type": "code",
      "metadata": {
        "id": "axw3k8FAwr_2",
        "cellView": "form"
      },
      "source": [
        "include_outliers = False #@param {type:\"boolean\"}\n",
        "num_bins = 32 #@param {type:\"slider\", min:0, max:100, step:1}\n",
        "symbol = 'X' if include_outliers else ''\n",
        "bounds = (5, 95) if include_outliers else (0,100)\n",
        "\n",
        "# Helper for later...\n",
        "def get_user_file():\n",
        "  uploaded = files.upload()\n",
        "  csv_name = list(uploaded.keys())[0]\n",
        "  try:\n",
        "    return pd.read_csv(io.BytesIO(uploaded[csv_name]))\n",
        "  except:\n",
        "    print(\"Something is wrong with your CSV! Did you choose the right file?\")\n",
        "    return pd.DataFrame()"
      ],
      "execution_count": null,
      "outputs": []
    },
    {
      "cell_type": "code",
      "metadata": {
        "colab": {
          "base_uri": "https://localhost:8080/",
          "height": 573
        },
        "id": "Y2A07rnghJ5N",
        "outputId": "62c486e7-22c8-498b-8861-ed7aad8fbd87"
      },
      "source": [
        "# Define the range of the Y axis\n",
        "ranges = [df[variable_to_explore].min() - 5, df[variable_to_explore].max() + 5]\n",
        "\n",
        "# Create the box and whiskers (boxplot)\n",
        "plt.boxplot(df[variable_to_explore], vert=False, sym=symbol, whis=bounds)\n",
        "plt.title(f\"Boxplot of {variable_to_explore} in {state_of_interest}\")\n",
        "plt.ylabel(\"Distribution\")\n",
        "plt.xlabel(variable_to_explore)\n",
        "plt.yticks(ticks=[1], labels=[\"100\"])\n",
        "plt.xlim(ranges)\n",
        "plt.show()\n",
        "\n",
        "# Create the histogram\n",
        "plt.hist(df[variable_to_explore], bins=num_bins)\n",
        "plt.title(f\"Histogram of {variable_to_explore} in {state_of_interest}\")\n",
        "plt.ylabel(\"Count in Bin\")\n",
        "plt.xlabel(variable_to_explore)\n",
        "plt.xlim(ranges)\n",
        "plt.show()"
      ],
      "execution_count": null,
      "outputs": [
        {
          "output_type": "display_data",
          "data": {
            "image/png": "[encoded data removed]",
            "text/plain": [
              "<Figure size 432x288 with 1 Axes>"
            ]
          },
          "metadata": {
            "needs_background": "light"
          }
        },
        {
          "output_type": "display_data",
          "data": {
            "image/png": "[encoded data removed]",
            "text/plain": [
              "<Figure size 432x288 with 1 Axes>"
            ]
          },
          "metadata": {
            "needs_background": "light"
          }
        }
      ]
    },
    {
      "cell_type": "markdown",
      "metadata": {
        "id": "ZPQlB6CktJE6"
      },
      "source": [
        "# Explore your data!\n",
        "Let's see how these state-wide results compare to your survey results. \n",
        "\n",
        "1.   Make sure that the column names that you collected match the ones used in this Colab: WaterCostInDollars, FireHazardFloodInsuranceYearlyCostInDollars, GrossRentAsPercentOfIncome, NumberOfChildrenInHousehold,NumberOfPeopleInHousehold, AgeInYears, TravelTimeToWorkInMinutes, NumberOfPeopleInCarpool, HoursWorkedWeeklyInPastYear, TotalIncomeInDollars\n",
        "2.   Download your data as CSV! In your Google Sheet, select File -> Download -> Comma separated values (CSV)\n",
        "3. Re-Run the cell below and choose the CSV file that you downloaded.\n",
        "-- "
      ]
    },
    {
      "cell_type": "code",
      "metadata": {
        "colab": {
          "base_uri": "https://localhost:8080/",
          "height": 545
        },
        "id": "busIbrsVr2UY",
        "outputId": "6dc071ad-201d-47d3-eb56-7ff8bb75c97c"
      },
      "source": [
        "print(\"What's your name?\")\n",
        "student_name = input()"
      ],
      "execution_count": null,
      "outputs": [
        {
          "output_type": "stream",
          "name": "stdout",
          "text": [
            "What's your name?\n"
          ]
        },
        {
          "output_type": "error",
          "ename": "KeyboardInterrupt",
          "evalue": "ignored",
          "traceback": [
            "\u001b[0;31m---------------------------------------------------------------------------\u001b[0m",
            "\u001b[0;31mKeyboardInterrupt\u001b[0m                         Traceback (most recent call last)",
            "\u001b[0;32m/usr/local/lib/python3.7/dist-packages/ipykernel/kernelbase.py\u001b[0m in \u001b[0;36m_input_request\u001b[0;34m(self, prompt, ident, parent, password)\u001b[0m\n\u001b[1;32m    728\u001b[0m             \u001b[0;32mtry\u001b[0m\u001b[0;34m:\u001b[0m\u001b[0;34m\u001b[0m\u001b[0;34m\u001b[0m\u001b[0m\n\u001b[0;32m--> 729\u001b[0;31m                 \u001b[0mident\u001b[0m\u001b[0;34m,\u001b[0m \u001b[0mreply\u001b[0m \u001b[0;34m=\u001b[0m \u001b[0mself\u001b[0m\u001b[0;34m.\u001b[0m\u001b[0msession\u001b[0m\u001b[0;34m.\u001b[0m\u001b[0mrecv\u001b[0m\u001b[0;34m(\u001b[0m\u001b[0mself\u001b[0m\u001b[0;34m.\u001b[0m\u001b[0mstdin_socket\u001b[0m\u001b[0;34m,\u001b[0m \u001b[0;36m0\u001b[0m\u001b[0;34m)\u001b[0m\u001b[0;34m\u001b[0m\u001b[0;34m\u001b[0m\u001b[0m\n\u001b[0m\u001b[1;32m    730\u001b[0m             \u001b[0;32mexcept\u001b[0m \u001b[0mException\u001b[0m\u001b[0;34m:\u001b[0m\u001b[0;34m\u001b[0m\u001b[0;34m\u001b[0m\u001b[0m\n",
            "\u001b[0;32m/usr/local/lib/python3.7/dist-packages/jupyter_client/session.py\u001b[0m in \u001b[0;36mrecv\u001b[0;34m(self, socket, mode, content, copy)\u001b[0m\n\u001b[1;32m    802\u001b[0m         \u001b[0;32mtry\u001b[0m\u001b[0;34m:\u001b[0m\u001b[0;34m\u001b[0m\u001b[0;34m\u001b[0m\u001b[0m\n\u001b[0;32m--> 803\u001b[0;31m             \u001b[0mmsg_list\u001b[0m \u001b[0;34m=\u001b[0m \u001b[0msocket\u001b[0m\u001b[0;34m.\u001b[0m\u001b[0mrecv_multipart\u001b[0m\u001b[0;34m(\u001b[0m\u001b[0mmode\u001b[0m\u001b[0;34m,\u001b[0m \u001b[0mcopy\u001b[0m\u001b[0;34m=\u001b[0m\u001b[0mcopy\u001b[0m\u001b[0;34m)\u001b[0m\u001b[0;34m\u001b[0m\u001b[0;34m\u001b[0m\u001b[0m\n\u001b[0m\u001b[1;32m    804\u001b[0m         \u001b[0;32mexcept\u001b[0m \u001b[0mzmq\u001b[0m\u001b[0;34m.\u001b[0m\u001b[0mZMQError\u001b[0m \u001b[0;32mas\u001b[0m \u001b[0me\u001b[0m\u001b[0;34m:\u001b[0m\u001b[0;34m\u001b[0m\u001b[0;34m\u001b[0m\u001b[0m\n",
            "\u001b[0;32m/usr/local/lib/python3.7/dist-packages/zmq/sugar/socket.py\u001b[0m in \u001b[0;36mrecv_multipart\u001b[0;34m(self, flags, copy, track)\u001b[0m\n\u001b[1;32m    624\u001b[0m         \"\"\"\n\u001b[0;32m--> 625\u001b[0;31m         \u001b[0mparts\u001b[0m \u001b[0;34m=\u001b[0m \u001b[0;34m[\u001b[0m\u001b[0mself\u001b[0m\u001b[0;34m.\u001b[0m\u001b[0mrecv\u001b[0m\u001b[0;34m(\u001b[0m\u001b[0mflags\u001b[0m\u001b[0;34m,\u001b[0m \u001b[0mcopy\u001b[0m\u001b[0;34m=\u001b[0m\u001b[0mcopy\u001b[0m\u001b[0;34m,\u001b[0m \u001b[0mtrack\u001b[0m\u001b[0;34m=\u001b[0m\u001b[0mtrack\u001b[0m\u001b[0;34m)\u001b[0m\u001b[0;34m]\u001b[0m\u001b[0;34m\u001b[0m\u001b[0;34m\u001b[0m\u001b[0m\n\u001b[0m\u001b[1;32m    626\u001b[0m         \u001b[0;31m# have first part already, only loop while more to receive\u001b[0m\u001b[0;34m\u001b[0m\u001b[0;34m\u001b[0m\u001b[0;34m\u001b[0m\u001b[0m\n",
            "\u001b[0;32mzmq/backend/cython/socket.pyx\u001b[0m in \u001b[0;36mzmq.backend.cython.socket.Socket.recv\u001b[0;34m()\u001b[0m\n",
            "\u001b[0;32mzmq/backend/cython/socket.pyx\u001b[0m in \u001b[0;36mzmq.backend.cython.socket.Socket.recv\u001b[0;34m()\u001b[0m\n",
            "\u001b[0;32mzmq/backend/cython/socket.pyx\u001b[0m in \u001b[0;36mzmq.backend.cython.socket._recv_copy\u001b[0;34m()\u001b[0m\n",
            "\u001b[0;32m/usr/local/lib/python3.7/dist-packages/zmq/backend/cython/checkrc.pxd\u001b[0m in \u001b[0;36mzmq.backend.cython.checkrc._check_rc\u001b[0;34m()\u001b[0m\n",
            "\u001b[0;31mKeyboardInterrupt\u001b[0m: ",
            "\nDuring handling of the above exception, another exception occurred:\n",
            "\u001b[0;31mKeyboardInterrupt\u001b[0m                         Traceback (most recent call last)",
            "\u001b[0;32m<ipython-input-9-daa10c03b4df>\u001b[0m in \u001b[0;36m<module>\u001b[0;34m()\u001b[0m\n\u001b[1;32m      1\u001b[0m \u001b[0mprint\u001b[0m\u001b[0;34m(\u001b[0m\u001b[0;34m\"What's your name?\"\u001b[0m\u001b[0;34m)\u001b[0m\u001b[0;34m\u001b[0m\u001b[0;34m\u001b[0m\u001b[0m\n\u001b[0;32m----> 2\u001b[0;31m \u001b[0mstudent_name\u001b[0m \u001b[0;34m=\u001b[0m \u001b[0minput\u001b[0m\u001b[0;34m(\u001b[0m\u001b[0;34m)\u001b[0m\u001b[0;34m\u001b[0m\u001b[0;34m\u001b[0m\u001b[0m\n\u001b[0m",
            "\u001b[0;32m/usr/local/lib/python3.7/dist-packages/ipykernel/kernelbase.py\u001b[0m in \u001b[0;36mraw_input\u001b[0;34m(self, prompt)\u001b[0m\n\u001b[1;32m    702\u001b[0m             \u001b[0mself\u001b[0m\u001b[0;34m.\u001b[0m\u001b[0m_parent_ident\u001b[0m\u001b[0;34m,\u001b[0m\u001b[0;34m\u001b[0m\u001b[0;34m\u001b[0m\u001b[0m\n\u001b[1;32m    703\u001b[0m             \u001b[0mself\u001b[0m\u001b[0;34m.\u001b[0m\u001b[0m_parent_header\u001b[0m\u001b[0;34m,\u001b[0m\u001b[0;34m\u001b[0m\u001b[0;34m\u001b[0m\u001b[0m\n\u001b[0;32m--> 704\u001b[0;31m             \u001b[0mpassword\u001b[0m\u001b[0;34m=\u001b[0m\u001b[0;32mFalse\u001b[0m\u001b[0;34m,\u001b[0m\u001b[0;34m\u001b[0m\u001b[0;34m\u001b[0m\u001b[0m\n\u001b[0m\u001b[1;32m    705\u001b[0m         )\n\u001b[1;32m    706\u001b[0m \u001b[0;34m\u001b[0m\u001b[0m\n",
            "\u001b[0;32m/usr/local/lib/python3.7/dist-packages/ipykernel/kernelbase.py\u001b[0m in \u001b[0;36m_input_request\u001b[0;34m(self, prompt, ident, parent, password)\u001b[0m\n\u001b[1;32m    732\u001b[0m             \u001b[0;32mexcept\u001b[0m \u001b[0mKeyboardInterrupt\u001b[0m\u001b[0;34m:\u001b[0m\u001b[0;34m\u001b[0m\u001b[0;34m\u001b[0m\u001b[0m\n\u001b[1;32m    733\u001b[0m                 \u001b[0;31m# re-raise KeyboardInterrupt, to truncate traceback\u001b[0m\u001b[0;34m\u001b[0m\u001b[0;34m\u001b[0m\u001b[0;34m\u001b[0m\u001b[0m\n\u001b[0;32m--> 734\u001b[0;31m                 \u001b[0;32mraise\u001b[0m \u001b[0mKeyboardInterrupt\u001b[0m\u001b[0;34m\u001b[0m\u001b[0;34m\u001b[0m\u001b[0m\n\u001b[0m\u001b[1;32m    735\u001b[0m             \u001b[0;32melse\u001b[0m\u001b[0;34m:\u001b[0m\u001b[0;34m\u001b[0m\u001b[0;34m\u001b[0m\u001b[0m\n\u001b[1;32m    736\u001b[0m                 \u001b[0;32mbreak\u001b[0m\u001b[0;34m\u001b[0m\u001b[0;34m\u001b[0m\u001b[0m\n",
            "\u001b[0;31mKeyboardInterrupt\u001b[0m: "
          ]
        }
      ]
    },
    {
      "cell_type": "code",
      "metadata": {
        "id": "4upWPdP6ukvx"
      },
      "source": [
        "user_data = get_user_file()"
      ],
      "execution_count": null,
      "outputs": []
    },
    {
      "cell_type": "code",
      "metadata": {
        "id": "Ua5gelZVrnu-"
      },
      "source": [
        "if variable_to_explore not in user_data.columns:\n",
        "  print(f\"You do not have {variable_to_explore} in your Sheet! Double check that it matches exactly and then reupload your file!\")\n",
        "else:\n",
        "  fig, axs = plt.subplots(2, 2)\n",
        "\n",
        "  def label_axes(axes, graph_type, transition_word, location, ranges):\n",
        "      # axes.title.set_text(f\"{graph_type} of {variable_to_explore} {transition_word} {location}\")\n",
        "      # axes.set_xlabel(variable_to_explore)\n",
        "      axes.set_xlim(ranges)\n",
        "\n",
        "  # Calculate shared range.\n",
        "  ranges = [min(df[variable_to_explore].min(), user_data[variable_to_explore].min()) - 5,\n",
        "          max(df[variable_to_explore].max(), user_data[variable_to_explore].max()) + 5]\n",
        "  # Create various plots.\n",
        "  state_data_for_var = df[variable_to_explore].dropna()\n",
        "  user_data_for_var = user_data[variable_to_explore].dropna()\n",
        "  print(f\"Distribution of {variable_to_explore} in {state_of_interest} (Top) vs {student_name}'s Survey (Bottom)\")\n",
        "  axs[0, 0].boxplot(state_data_for_var, vert=False, sym=symbol, whis=bounds)\n",
        "  label_axes(axs[0, 0], \"Boxplot\", \"in\", state_of_interest, ranges) \n",
        "  axs[0, 1].hist(state_data_for_var, bins=num_bins)\n",
        "  label_axes(axs[0, 1], \"Histogram\", \"in\", state_of_interest, ranges) \n",
        "  axs[1, 0].boxplot(user_data_for_var, vert=False, sym=symbol, whis=bounds)\n",
        "  label_axes(axs[1, 0], \"Boxplot\", student_name + \"'s Survey\", \"for\", ranges) \n",
        "  axs[1, 1].hist(user_data_for_var, bins=num_bins)\n",
        "  label_axes(axs[1, 1], \"Histogram\", student_name + \"'s Survey\", \"for\", ranges) "
      ],
      "execution_count": null,
      "outputs": []
    },
    {
      "cell_type": "code",
      "metadata": {
        "id": "ef6QrdGfsgsw"
      },
      "source": [
        ""
      ],
      "execution_count": null,
      "outputs": []
    },
    {
      "cell_type": "code",
      "metadata": {
        "id": "Mmsw-TXpzQTt"
      },
      "source": [
        ""
      ],
      "execution_count": null,
      "outputs": []
    },
    {
      "cell_type": "code",
      "metadata": {
        "id": "Fr2DLTmbyy5e"
      },
      "source": [
        ""
      ],
      "execution_count": null,
      "outputs": []
    }
  ]
}